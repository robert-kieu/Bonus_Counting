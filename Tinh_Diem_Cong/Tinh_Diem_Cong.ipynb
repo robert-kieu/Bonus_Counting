{
 "cells": [
  {
   "cell_type": "markdown",
   "metadata": {},
   "source": [
    "<div style=\"text-align: center\"><strong> <font size=\"5\">Tính Điểm Cộng</font></strong></div><br>\n",
    "<div style=\"text-align: center\">Do mình không biết làm sạch dữ liệu sao mọi người sài chịu khó bước đó làm thủ công nha :v</div>"
   ]
  },
  {
   "cell_type": "code",
   "execution_count": 1,
   "metadata": {},
   "outputs": [],
   "source": [
    "# Import thư viện\n",
    "import re"
   ]
  },
  {
   "cell_type": "code",
   "execution_count": 27,
   "metadata": {},
   "outputs": [
    {
     "data": {
      "text/plain": [
       "{'ID': 'Count',\n",
       " '19127595': '7',\n",
       " '19127332': '5',\n",
       " '19127639': '13',\n",
       " '19127135': '6',\n",
       " '19127416': '3',\n",
       " '19127607': '4',\n",
       " '19127518': '13',\n",
       " '19127281': '11',\n",
       " '19127562': '6',\n",
       " '19127474': '8',\n",
       " '19127472': '2',\n",
       " '19127587': '7',\n",
       " '19127083': '17',\n",
       " '19127037': '6',\n",
       " '19127326': '14',\n",
       " '19127330': '6',\n",
       " '19127358': '4',\n",
       " '19127516': '10',\n",
       " '19127094': '12',\n",
       " '19127593': '5',\n",
       " '19127177': '16',\n",
       " '19127642': '4',\n",
       " '19127154': '5',\n",
       " '19127481': '5',\n",
       " '19127347': '17',\n",
       " '19127444': '4',\n",
       " '19127078': '12',\n",
       " '19127353': '5',\n",
       " '19127134': '8',\n",
       " '19127082': '12',\n",
       " '18127133': '15',\n",
       " '19127074': '7',\n",
       " '19127473': '4',\n",
       " '19127399': '8',\n",
       " '19127519': '10',\n",
       " '19127645': '9',\n",
       " '19127630': '5',\n",
       " '19127400': '18',\n",
       " '19127021': '7',\n",
       " '19127009': '1',\n",
       " '19127403': '11'}"
      ]
     },
     "execution_count": 27,
     "metadata": {},
     "output_type": "execute_result"
    }
   ],
   "source": [
    "# Đọc file chat\n",
    "file_data = open('meeting_saved_chat.txt', encoding='utf8')\n",
    "\n",
    "# Lấy string data để bỏ vô re(regular expression)\n",
    "s = ''\n",
    "data_clear = {'ID': 'Count'}\n",
    "for line in file_data: s += line.rstrip()\n",
    "\n",
    "# Lấy set id để đỡ duyệt list\n",
    "id_list = re.findall(r'\\d{8}', s)\n",
    "id_list_unique = set(id_list)\n",
    "\n",
    "# Tính tổng số lần dơ tay\n",
    "for element in id_list_unique:\n",
    "    count = id_list.count(element)\n",
    "    data_clear[f'{element}'] = f'{count}'\n",
    "\n",
    "data_clear"
   ]
  }
 ],
 "metadata": {
  "kernelspec": {
   "display_name": "Python 3",
   "language": "python",
   "name": "python3"
  },
  "language_info": {
   "codemirror_mode": {
    "name": "ipython",
    "version": 3
   },
   "file_extension": ".py",
   "mimetype": "text/x-python",
   "name": "python",
   "nbconvert_exporter": "python",
   "pygments_lexer": "ipython3",
   "version": "3.8.3"
  }
 },
 "nbformat": 4,
 "nbformat_minor": 4
}
